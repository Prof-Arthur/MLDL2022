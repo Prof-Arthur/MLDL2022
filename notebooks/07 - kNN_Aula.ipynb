{
  "nbformat": 4,
  "nbformat_minor": 0,
  "metadata": {
    "colab": {
      "provenance": []
    },
    "kernelspec": {
      "name": "python3",
      "display_name": "Python 3"
    },
    "language_info": {
      "name": "python"
    }
  },
  "cells": [
    {
      "cell_type": "code",
      "execution_count": null,
      "metadata": {
        "id": "P5cpIWFmjpLF"
      },
      "outputs": [],
      "source": [
        "import numpy as np\n",
        "import pandas as pd\n",
        "from matplotlib import pyplot as plt\n",
        "import seaborn as sns\n",
        "from statistics import mode"
      ]
    },
    {
      "cell_type": "code",
      "source": [
        "# Falar de data split\n",
        "# Falar de data leakage\n",
        "# Falar de NCC\n",
        "\n",
        "# Falar da importância da normalização dos dados para esse algoritmo\n",
        "# E sobre a sensibilidade à estrutura local dos dados"
      ],
      "metadata": {
        "id": "ebACNJ4TvhRl"
      },
      "execution_count": null,
      "outputs": []
    },
    {
      "cell_type": "code",
      "source": [
        "class NossoKNN: # Faremos \n",
        "  def __init__(self, n_neighbors, regression=False):\n",
        "    self.n = n_neighbors\n",
        "    self.reg = regression\n",
        "  def fit(self, X, y):\n",
        "    return self\n",
        "  def predict(self, X):\n",
        "    return []"
      ],
      "metadata": {
        "id": "cr8Y-XkKwIvC"
      },
      "execution_count": null,
      "outputs": []
    },
    {
      "cell_type": "code",
      "source": [
        "class NossoKNN:\n",
        "  def __init__(self, n_neighbors, regression=False):\n",
        "    self.n = n_neighbors\n",
        "    self.reg = regression\n",
        "  def fit(self, X, y):\n",
        "    self.data = [[ponto, label] for ponto, label in zip(list(X), list(y))]\n",
        "    return self\n",
        "  def predict(self, X):\n",
        "    X = np.array(X)\n",
        "    if X.ndim == 1:\n",
        "      X = X.reshape(1, -1)\n",
        "    assert X.ndim == 2\n",
        "    X = list(X)\n",
        "    output = []\n",
        "    for v in X:\n",
        "      aux = []\n",
        "      for i, dat in enumerate(self.data):\n",
        "        ponto, label = dat\n",
        "        aux.append( [ np.linalg.norm(v - ponto), i ] )\n",
        "      aux.sort(key=lambda x: x[0])\n",
        "      aux = aux[:self.n]\n",
        "      indexes = [aux_[1] for aux_ in aux]\n",
        "      labels = [self.data[i][1] for i in indexes]\n",
        "      if self.reg:\n",
        "        output.append(np.mean(labels))\n",
        "      else:\n",
        "        output.append(mode(labels))              \n",
        "    return output\n"
      ],
      "metadata": {
        "id": "L1TLBzuCjx0h"
      },
      "execution_count": null,
      "outputs": []
    },
    {
      "cell_type": "code",
      "source": [
        "X1 = np.array([\n",
        "    [1, 1],\n",
        "    [2, 2],\n",
        "    [3, 3],\n",
        "    [4, 4],\n",
        "    [5, 5],\n",
        "               ])\n",
        "y = np.array([1.9, 2.1, 2.2, 4.2, 3])\n",
        "\n",
        "NossoKNN(3, regression=True).fit(X1, y).predict([[3.1, 2.9], [1.1,1.2], [6.7, 7.8]])"
      ],
      "metadata": {
        "id": "sBIK3HLdqeVt"
      },
      "execution_count": null,
      "outputs": []
    }
  ]
}