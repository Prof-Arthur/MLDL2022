{
  "nbformat": 4,
  "nbformat_minor": 0,
  "metadata": {
    "colab": {
      "provenance": []
    },
    "kernelspec": {
      "name": "python3",
      "display_name": "Python 3"
    },
    "language_info": {
      "name": "python"
    }
  },
  "cells": [
    {
      "cell_type": "code",
      "execution_count": null,
      "metadata": {
        "id": "1BegvJo-LFAG"
      },
      "outputs": [],
      "source": [
        "import random\n",
        "import numpy as np\n",
        "import pandas as pd\n",
        "from matplotlib import pyplot as plt\n",
        "import seaborn as sns\n",
        "from sklearn.cluster import KMeans"
      ]
    },
    {
      "cell_type": "code",
      "source": [
        "# Gerando Dados Sintéticos \n",
        "\n",
        "# Quantidade de pontos em cada classe\n",
        "nA = 50\n",
        "nB = 60\n",
        "nC = 55\n",
        "\n",
        "# Posição dos centróides\n",
        "centroidA = np.array([7, 8])\n",
        "centroidB = np.array([3, 2])\n",
        "centroidC = np.array([8, 3.5])\n",
        "centsDF = pd.DataFrame({'x': [centroidA[0], centroidB[0], centroidC[0]], \n",
        "                        'y': [centroidA[1], centroidB[1], centroidC[1]],\n",
        "                        'classe':['centroid']*3})\n",
        "\n",
        "# Variâcia de cada classe\n",
        "varA = .9\n",
        "varB = 1.1\n",
        "varC = 1.\n",
        "\n",
        "# Gerando coordenadas x para cada classe (X = média + valor_aleatório_distribuição_normal * variância)\n",
        "Ax = centroidA[0] + np.random.randn(nA) * varA\n",
        "Bx = centroidB[0] + np.random.randn(nB) * varB\n",
        "Cx = centroidC[0] + np.random.randn(nC) * varC\n",
        "\n",
        "# Gerando coordenadas y para cada classe\n",
        "Ay = centroidA[1] + np.random.randn(nA) * varA\n",
        "By = centroidB[1] + np.random.randn(nB) * varB\n",
        "Cy = centroidC[1] + np.random.randn(nC) * varC\n",
        "\n",
        "# Concatenando todos os x e y em vetores únicos \n",
        "dadosX = np.concatenate([Ax, Bx, Cx])\n",
        "dadosY = np.concatenate([Ay, By, Cy])\n",
        "\n",
        "# Combinando os dados x e y em um único vetor com dimensões -> (nA+nB+nC, 2)\n",
        "dados = np.stack([dadosX, dadosY]).T\n",
        "\n",
        "# Criando o vetor com os rótulos de cada ponto\n",
        "classes = ['A'] * nA + ['B'] * nB + ['C'] * nC\n",
        "\n",
        "# Criando DataFrame do Pandas com os dados gerados acima\n",
        "DF = pd.DataFrame({'x': dadosX, 'y': dadosY, 'classe': classes})\n",
        "\n",
        "# Paleta de cores para os gráficos -> (Ciano, Azul, Verde, Vermelho)\n",
        "palette = ['#00ffff', '#0000ff', '#00ff00', '#ff0000']\n",
        "\n",
        "sns.scatterplot(data=pd.concat([DF, centsDF]),\n",
        "                x='x', \n",
        "                y='y', \n",
        "                hue='classe', \n",
        "                palette=palette)\n"
      ],
      "metadata": {
        "id": "xIvKjczASJGd"
      },
      "execution_count": null,
      "outputs": []
    },
    {
      "cell_type": "code",
      "source": [
        "# Utilizado o KMeans do SK Learn\n",
        "kmeans = KMeans(n_clusters=3)\n",
        "kmeans.fit(dados)\n",
        "\n",
        "DF['sklearn'] = kmeans.labels_\n",
        "Cs = kmeans.cluster_centers_\n",
        "sklearnDF = pd.DataFrame({'x': Cs[:,0], \n",
        "                        'y': Cs[:,1],\n",
        "                        'sklearn':['centroid']*3})\n",
        "\n",
        "plt.figure(figsize=(18,8))\n",
        "plt.subplot(1,2,1)\n",
        "sns.scatterplot(data=pd.concat([DF, centsDF]), x='x', y='y', hue='classe', palette=palette)\n",
        "plt.subplot(1,2,2)\n",
        "sns.scatterplot(data=pd.concat([DF, sklearnDF]), x='x', y='y', hue='sklearn', palette=palette)"
      ],
      "metadata": {
        "id": "AyKllXi7WCDT"
      },
      "execution_count": null,
      "outputs": []
    },
    {
      "cell_type": "code",
      "source": [
        "# Função externa para plotar passo a passo do nosso modelo\n",
        "  # Ela não é necessária, coloquei apenas para facilitar a visualização\n",
        "def print_steps(dados, labels, centroids):\n",
        "  plt.figure()\n",
        "  sns.scatterplot(x=np.concatenate([dados[:,0], centroids[:,0]]), \n",
        "                  y=np.concatenate([dados[:,1], centroids[:,1]]), \n",
        "                  hue=np.concatenate([labels, [-1]*len(centroids)]),\n",
        "                  palette=list(reversed(palette))[:len(set(labels))+1])\n",
        "class MLDLKMeans:\n",
        "  def __init__(self, n_clusters):\n",
        "    self.n = n_clusters\n",
        "\n",
        "  def fit(self, dados, printSteps=False):\n",
        "    # passo 0 -> Inicialização dos clusters e do modelo\n",
        "      # Dica: para amostrar aleatoriamente pontos do nosso dataset, podemos usar a função random.sample do python\n",
        "      # por exemplo: centroids = random.sample(list(dados), n_clusters)\n",
        "    Cs = np.array(random.sample(list(dados), self.n))\n",
        "    self.labels_ = np.zeros(dados.shape[0]).astype(int)\n",
        "\n",
        "    # Loop\n",
        "    while True:\n",
        "      # Função de debug para plotar cada iteração (apenas para ajudar, não é necessária)\n",
        "      if printSteps and dados.shape[1] == 2:\n",
        "        print_steps(dados, self.labels_, Cs)\n",
        "\n",
        "      # passo 1 -> Atribuir rótulos aos dados conforme centróide mais próximo\n",
        "        # Para isso, precisamos percorrer todos os dados,\n",
        "        # comparar a distância com cada um dos centróides e \n",
        "        # escolher o index da menor distância euclidiana\n",
        "        for i, point in enumerate(dados):\n",
        "          self.labels_[i] = np.argmin([np.linalg.norm(point - centroid) for centroid in Cs])\n",
        "\n",
        "      # passo 2 -> Recalcular centroides a partir dos novos rótulos gerados no passo 1\n",
        "        # Para isso, iremos computar a média de todos os pontos (dados)\n",
        "        # pertencentes a cada um dos grupos (relativos aos centróides)\n",
        "        lastCs = Cs\n",
        "        Cs = np.array([sum(dados[self.labels_ == i]) / sum(self.labels_ == i) for i in range(self.n)])\n",
        "\n",
        "      # passo X -> Condição de parada é quando não há mais alteração da posição dos centroides\n",
        "        # Para isso, precisamos ter armazenado os valores antigos dos centróides\n",
        "        # (antes da última alteração) e comparar com o atual. Caso não haja diferença,\n",
        "        # então podemos quebrar o loop e encerrar nossa função fit()\n",
        "        if np.linalg.norm(lastCs - Cs) <= 1e-8:\n",
        "          break\n",
        "\n",
        "    self.cluster_centers_ = Cs\n",
        "    return self"
      ],
      "metadata": {
        "id": "_t_dCM3VbznL"
      },
      "execution_count": null,
      "outputs": []
    },
    {
      "cell_type": "code",
      "source": [
        "# Utilizando o nosso modelo de KMeans para agrupar os mesmos dados\n",
        "mldl = MLDLKMeans(n_clusters=3)\n",
        "mldl.fit(dados, printSteps=True)\n",
        "\n",
        "DF['mldl'] = mldl.labels_\n",
        "\n",
        "Ms = mldl.cluster_centers_\n",
        "mldlDF = pd.DataFrame({'x': Ms[:,0], \n",
        "                       'y': Ms[:,1],\n",
        "                       'mldl':['centroid']*3})\n"
      ],
      "metadata": {
        "id": "LYMAclDJdP1o"
      },
      "execution_count": null,
      "outputs": []
    },
    {
      "cell_type": "code",
      "source": [
        "# Plotando todos os resultados finais\n",
        "plt.figure(figsize=(18,8))\n",
        "plt.subplot(1,3,1)\n",
        "sns.scatterplot(data=pd.concat([DF, centsDF]), x='x', y='y', hue='classe', palette=palette)\n",
        "plt.subplot(1,3,2)\n",
        "sns.scatterplot(data=pd.concat([DF, sklearnDF]), x='x', y='y', hue='sklearn', palette=palette)\n",
        "plt.subplot(1,3,3)\n",
        "sns.scatterplot(data=pd.concat([DF, mldlDF]), x='x', y='y', hue='mldl', palette=palette)"
      ],
      "metadata": {
        "id": "K_AzafPq4vQg"
      },
      "execution_count": null,
      "outputs": []
    }
  ]
}